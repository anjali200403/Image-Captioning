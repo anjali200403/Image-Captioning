{
  "cells": [
    {
      "cell_type": "code",
      "execution_count": 1,
      "metadata": {
        "id": "S9Pmy7cERsaU"
      },
      "outputs": [],
      "source": [
        "from keras.applications.vgg16 import VGG16\n",
        "from keras.preprocessing.image import load_img\n",
        "from keras.preprocessing.image import img_to_array\n",
        "from keras.applications.vgg16 import preprocess_input\n",
        "from keras.models import Model\n",
        "import os"
      ]
    },
    {
      "cell_type": "code",
      "execution_count": 2,
      "metadata": {
        "id": "mKfKNuq3kQEV"
      },
      "outputs": [],
      "source": [
        "image_dataset_path = '/content/drive/MyDrive/codetice/input/Flicker8k_Dataset'\n",
        "caption_dataset_path = '/content/drive/MyDrive/codetice/input/Flickr8k_text/Flickr8k.token.txt'"
      ]
    },
    {
      "cell_type": "code",
      "execution_count": 3,
      "metadata": {
        "id": "XO2QUc22h7qT"
      },
      "outputs": [],
      "source": [
        "# load the caption file & read it\n",
        "def load_caption_file(path):\n",
        "\n",
        "    # dictionary to store captions\n",
        "    captions_dict = {}\n",
        "\n",
        "    # iterate through the file\n",
        "    for caption in open(path):\n",
        "\n",
        "        # caption has format-> 1000268201_693b08cb0e.jpg#0  A child in a pink dress is climbing up a set of stairs in an entry way .\n",
        "        tokens = caption.split()\n",
        "        caption_id, caption_text = tokens[0].split('.')[0], tokens[1:]\n",
        "        caption_text = ' '.join(caption_text)\n",
        "\n",
        "        # save it in the captions dictionary\n",
        "        if caption_id not in captions_dict:\n",
        "            captions_dict[caption_id] = caption_text\n",
        "\n",
        "    return captions_dict\n",
        "\n",
        "# call the function\n",
        "captions_dict = load_caption_file(caption_dataset_path)"
      ]
    },
    {
      "cell_type": "code",
      "execution_count": 4,
      "metadata": {
        "id": "taYAPKQx7avL"
      },
      "outputs": [],
      "source": [
        "# clean the captions\n",
        "import string\n",
        "\n",
        "# dictionary to store the cleaned captions\n",
        "new_captions_dict = {}\n",
        "\n",
        "# prepare translation table for removing punctuation. third argument is the list of punctuations we want to remove\n",
        "table = str.maketrans('', '', string.punctuation)\n",
        "\n",
        "# loop through the dictionary\n",
        "for caption_id, caption_text in captions_dict.items():\n",
        "    # tokenize the caption_text\n",
        "    caption_text = caption_text.split()\n",
        "    # convert it into lower case\n",
        "    caption_text = [token.lower() for token in caption_text]\n",
        "    # remove punctuation from each token\n",
        "    caption_text = [token.translate(table) for token in caption_text]\n",
        "    # remove all the single letter tokens like 'a', 's'\n",
        "    caption_text = [token for token in caption_text if len(token)>1]\n",
        "    # store the cleaned captions\n",
        "    new_captions_dict[caption_id] = 'startseq ' + ' '.join(caption_text) + ' endseq'"
      ]
    },
    {
      "cell_type": "code",
      "execution_count": 5,
      "metadata": {
        "id": "J9ymD8qQjuRN"
      },
      "outputs": [],
      "source": [
        "# delete unwanted\n",
        "del captions_dict"
      ]
    },
    {
      "cell_type": "code",
      "execution_count": 6,
      "metadata": {
        "colab": {
          "base_uri": "https://localhost:8080/"
        },
        "id": "asfL1u9_79WG",
        "outputId": "fba5de35-08b8-468b-e16b-937d06a9bade"
      },
      "outputs": [
        {
          "output_type": "stream",
          "name": "stdout",
          "text": [
            "\"1000268201_693b08cb0e\" : startseq child in pink dress is climbing up set of stairs in an entry way endseq\n"
          ]
        }
      ],
      "source": [
        "print('\"' + list(new_captions_dict.keys())[0] + '\"' + ' : ' + new_captions_dict[list(new_captions_dict.keys())[0]])"
      ]
    },
    {
      "cell_type": "code",
      "execution_count": 7,
      "metadata": {
        "colab": {
          "base_uri": "https://localhost:8080/"
        },
        "id": "Jlws8Uqx8AQq",
        "outputId": "272c91c7-d055-4664-9370-452440e106f5"
      },
      "outputs": [
        {
          "output_type": "execute_result",
          "data": {
            "text/plain": [
              "8092"
            ]
          },
          "metadata": {},
          "execution_count": 7
        }
      ],
      "source": [
        "len(new_captions_dict)"
      ]
    },
    {
      "cell_type": "code",
      "execution_count": 8,
      "metadata": {
        "id": "S7byudit8DKW"
      },
      "outputs": [],
      "source": [
        "caption_images_list = []\n",
        "\n",
        "image_index = list(new_captions_dict.keys())\n",
        "\n",
        "caption_images_list = [ image.split('.')[0] for image in os.listdir(image_dataset_path) if image.split('.')[0] in image_index ]"
      ]
    },
    {
      "cell_type": "code",
      "execution_count": 9,
      "metadata": {
        "colab": {
          "base_uri": "https://localhost:8080/",
          "height": 35
        },
        "id": "tpM1FATM8F52",
        "outputId": "ffb609cc-cf12-4890-d184-a2647cd031b3"
      },
      "outputs": [
        {
          "output_type": "execute_result",
          "data": {
            "text/plain": [
              "'3726730085_2468ee9220'"
            ],
            "application/vnd.google.colaboratory.intrinsic+json": {
              "type": "string"
            }
          },
          "metadata": {},
          "execution_count": 9
        }
      ],
      "source": [
        "caption_images_list[0]"
      ]
    },
    {
      "cell_type": "code",
      "execution_count": 10,
      "metadata": {
        "colab": {
          "base_uri": "https://localhost:8080/"
        },
        "id": "A59lcGtZ8Imd",
        "outputId": "ff1f7996-de26-4c8c-968e-03191e5b1ee0"
      },
      "outputs": [
        {
          "output_type": "execute_result",
          "data": {
            "text/plain": [
              "8091"
            ]
          },
          "metadata": {},
          "execution_count": 10
        }
      ],
      "source": [
        "len(caption_images_list)"
      ]
    },
    {
      "cell_type": "code",
      "execution_count": 11,
      "metadata": {
        "id": "2GcyBc_W8MFD"
      },
      "outputs": [],
      "source": [
        "train_validate_images = caption_images_list[0:8081]"
      ]
    },
    {
      "cell_type": "code",
      "execution_count": 12,
      "metadata": {
        "colab": {
          "base_uri": "https://localhost:8080/"
        },
        "id": "W1eFwbZv8P-7",
        "outputId": "27be623e-7266-4ef3-92bc-d6e73be359e4"
      },
      "outputs": [
        {
          "output_type": "execute_result",
          "data": {
            "text/plain": [
              "['111766423_4522d36e56',\n",
              " '112243673_fd68255217',\n",
              " '1131804997_177c3c0640',\n",
              " '1094462889_f9966dafa6',\n",
              " '1141739219_2c47195e4c',\n",
              " '109823397_e35154645f',\n",
              " '109260216_85b0be5378',\n",
              " '1107246521_d16a476380',\n",
              " '111537217_082a4ba060',\n",
              " '109738916_236dc456ac']"
            ]
          },
          "metadata": {},
          "execution_count": 12
        }
      ],
      "source": [
        "test_images = caption_images_list[8081:8091]\n",
        "test_images"
      ]
    },
    {
      "cell_type": "code",
      "execution_count": 13,
      "metadata": {
        "id": "POH8k-_M8R8F"
      },
      "outputs": [],
      "source": [
        "# extract features from each photo in the directory\n",
        "def extract_features(directory, image_keys):\n",
        "    # load the model\n",
        "    model = VGG16()\n",
        "\n",
        "    # re-structure the model\n",
        "    model = Model(inputs=model.inputs, outputs=model.layers[-2].output)\n",
        "\n",
        "    # summarize\n",
        "    print(model.summary())\n",
        "\n",
        "    # extract features from each photo\n",
        "    features = dict()\n",
        "\n",
        "    for name in image_keys:\n",
        "\n",
        "        # load an image from file\n",
        "        filename = directory + '/' + name + '.jpg'\n",
        "\n",
        "        # load the image and convert it into target size of 224*224\n",
        "        image = load_img(filename, target_size=(224, 224))\n",
        "\n",
        "        # convert the image pixels to a numpy array\n",
        "        image = img_to_array(image)\n",
        "\n",
        "        # reshape data for the model\n",
        "        image = image.reshape((1, image.shape[0], image.shape[1], image.shape[2]))\n",
        "\n",
        "        # prepare the image for the VGG model\n",
        "        image = preprocess_input(image)\n",
        "\n",
        "        # get features\n",
        "        feature = model.predict(image, verbose=0)\n",
        "\n",
        "        # get image id\n",
        "        image_id = name.split('.')[0]\n",
        "\n",
        "        # store feature\n",
        "        features[image_id] = feature\n",
        "\n",
        "#         print('>%s' % name)\n",
        "\n",
        "\n",
        "    return features"
      ]
    },
    {
      "cell_type": "code",
      "execution_count": 14,
      "metadata": {
        "colab": {
          "base_uri": "https://localhost:8080/"
        },
        "id": "5w9c8eEJ8Xdd",
        "outputId": "40dec34e-52b9-40e2-fd24-e6955737c897"
      },
      "outputs": [
        {
          "output_type": "stream",
          "name": "stdout",
          "text": [
            "Model: \"model\"\n",
            "_________________________________________________________________\n",
            " Layer (type)                Output Shape              Param #   \n",
            "=================================================================\n",
            " input_1 (InputLayer)        [(None, 224, 224, 3)]     0         \n",
            "                                                                 \n",
            " block1_conv1 (Conv2D)       (None, 224, 224, 64)      1792      \n",
            "                                                                 \n",
            " block1_conv2 (Conv2D)       (None, 224, 224, 64)      36928     \n",
            "                                                                 \n",
            " block1_pool (MaxPooling2D)  (None, 112, 112, 64)      0         \n",
            "                                                                 \n",
            " block2_conv1 (Conv2D)       (None, 112, 112, 128)     73856     \n",
            "                                                                 \n",
            " block2_conv2 (Conv2D)       (None, 112, 112, 128)     147584    \n",
            "                                                                 \n",
            " block2_pool (MaxPooling2D)  (None, 56, 56, 128)       0         \n",
            "                                                                 \n",
            " block3_conv1 (Conv2D)       (None, 56, 56, 256)       295168    \n",
            "                                                                 \n",
            " block3_conv2 (Conv2D)       (None, 56, 56, 256)       590080    \n",
            "                                                                 \n",
            " block3_conv3 (Conv2D)       (None, 56, 56, 256)       590080    \n",
            "                                                                 \n",
            " block3_pool (MaxPooling2D)  (None, 28, 28, 256)       0         \n",
            "                                                                 \n",
            " block4_conv1 (Conv2D)       (None, 28, 28, 512)       1180160   \n",
            "                                                                 \n",
            " block4_conv2 (Conv2D)       (None, 28, 28, 512)       2359808   \n",
            "                                                                 \n",
            " block4_conv3 (Conv2D)       (None, 28, 28, 512)       2359808   \n",
            "                                                                 \n",
            " block4_pool (MaxPooling2D)  (None, 14, 14, 512)       0         \n",
            "                                                                 \n",
            " block5_conv1 (Conv2D)       (None, 14, 14, 512)       2359808   \n",
            "                                                                 \n",
            " block5_conv2 (Conv2D)       (None, 14, 14, 512)       2359808   \n",
            "                                                                 \n",
            " block5_conv3 (Conv2D)       (None, 14, 14, 512)       2359808   \n",
            "                                                                 \n",
            " block5_pool (MaxPooling2D)  (None, 7, 7, 512)         0         \n",
            "                                                                 \n",
            " flatten (Flatten)           (None, 25088)             0         \n",
            "                                                                 \n",
            " fc1 (Dense)                 (None, 4096)              102764544 \n",
            "                                                                 \n",
            " fc2 (Dense)                 (None, 4096)              16781312  \n",
            "                                                                 \n",
            "=================================================================\n",
            "Total params: 134260544 (512.16 MB)\n",
            "Trainable params: 134260544 (512.16 MB)\n",
            "Non-trainable params: 0 (0.00 Byte)\n",
            "_________________________________________________________________\n",
            "None\n"
          ]
        }
      ],
      "source": [
        "# extracting image features for train_validate_images\n",
        "train_validate_features = extract_features(image_dataset_path, train_validate_images)"
      ]
    },
    {
      "cell_type": "code",
      "execution_count": 15,
      "metadata": {
        "id": "G1lFXAGN8aqB",
        "colab": {
          "base_uri": "https://localhost:8080/"
        },
        "outputId": "3a443d50-39df-4be2-fd19-78cc2bffb933"
      },
      "outputs": [
        {
          "output_type": "stream",
          "name": "stdout",
          "text": [
            "3726730085_2468ee9220 : [[0.         0.94499123 0.89725214 ... 0.         0.33003217 0.02918297]]\n"
          ]
        }
      ],
      "source": [
        "print(\"{} : {}\".format(list(train_validate_features.keys())[0], train_validate_features[list(train_validate_features.keys())[0]] ))"
      ]
    },
    {
      "cell_type": "code",
      "source": [
        "type(train_validate_features)"
      ],
      "metadata": {
        "colab": {
          "base_uri": "https://localhost:8080/"
        },
        "id": "hk1utZXsqw_e",
        "outputId": "91c04a70-04cd-4559-e053-26a91c379c07"
      },
      "execution_count": 19,
      "outputs": [
        {
          "output_type": "execute_result",
          "data": {
            "text/plain": [
              "dict"
            ]
          },
          "metadata": {},
          "execution_count": 19
        }
      ]
    },
    {
      "cell_type": "code",
      "execution_count": 20,
      "metadata": {
        "id": "ridkWOk789xw",
        "colab": {
          "base_uri": "https://localhost:8080/"
        },
        "outputId": "e0267083-0fcf-40cc-f23b-5a8af9288ec9"
      },
      "outputs": [
        {
          "output_type": "execute_result",
          "data": {
            "text/plain": [
              "8081"
            ]
          },
          "metadata": {},
          "execution_count": 20
        }
      ],
      "source": [
        "len(train_validate_features)"
      ]
    },
    {
      "cell_type": "code",
      "execution_count": 29,
      "metadata": {
        "id": "37jgd_Lq9A8W"
      },
      "outputs": [],
      "source": [
        "from pickle import dump\n",
        "dump(train_validate_features, open('./train_validate_features.pkl', 'wb'))"
      ]
    },
    {
      "cell_type": "code",
      "source": [
        "import pickle\n",
        "with open('./train_validate_features.pkl', 'rb') as f:\n",
        "    train_validate_features = pickle.load(f)"
      ],
      "metadata": {
        "id": "Kk4LibSjr0Mi"
      },
      "execution_count": 19,
      "outputs": []
    },
    {
      "cell_type": "code",
      "source": [
        "# load libraries\n",
        "import numpy as np\n",
        "from keras.models import Model, load_model\n",
        "from keras.layers import Input, Dense, Dropout, LSTM, Embedding\n",
        "from keras.preprocessing.text import Tokenizer\n",
        "from keras.preprocessing.sequence import pad_sequences\n",
        "from keras.utils import to_categorical, plot_model\n",
        "from keras.layers import add\n",
        "from keras.callbacks import ModelCheckpoint, EarlyStopping, ReduceLROnPlateau"
      ],
      "metadata": {
        "id": "GbpijQtUamsZ"
      },
      "execution_count": 14,
      "outputs": []
    },
    {
      "cell_type": "code",
      "source": [
        "# make a dictionary of image with caption for train_validate_images\n",
        "train_validate_image_caption = {}\n",
        "\n",
        "for image, caption in new_captions_dict.items():\n",
        "\n",
        "    # check whether the image is available in both train_validate_images list and train_validate_features dictionary\n",
        "    if image in train_validate_images and image in list(train_validate_features.keys()):\n",
        "\n",
        "         train_validate_image_caption.update({image : caption})\n",
        "\n",
        "len(train_validate_image_caption)"
      ],
      "metadata": {
        "colab": {
          "base_uri": "https://localhost:8080/"
        },
        "id": "rK_-xfCBanMB",
        "outputId": "faab34d3-0f32-47ce-98bf-af5463dd0a60"
      },
      "execution_count": 20,
      "outputs": [
        {
          "output_type": "execute_result",
          "data": {
            "text/plain": [
              "8081"
            ]
          },
          "metadata": {},
          "execution_count": 20
        }
      ]
    },
    {
      "cell_type": "code",
      "source": [
        "list(train_validate_image_caption.values())[1]"
      ],
      "metadata": {
        "colab": {
          "base_uri": "https://localhost:8080/",
          "height": 35
        },
        "id": "Whcv5TZabhct",
        "outputId": "c2c2ce49-2bc0-4ef3-947a-eedba261d7b7"
      },
      "execution_count": 22,
      "outputs": [
        {
          "output_type": "execute_result",
          "data": {
            "text/plain": [
              "'startseq black dog and spotted dog are fighting endseq'"
            ],
            "application/vnd.google.colaboratory.intrinsic+json": {
              "type": "string"
            }
          },
          "metadata": {},
          "execution_count": 22
        }
      ]
    },
    {
      "cell_type": "code",
      "source": [
        "# initialise tokenizer\n",
        "tokenizer = Tokenizer()\n",
        "\n",
        "# create word count dictionary on the captions list\n",
        "tokenizer.fit_on_texts(list(train_validate_image_caption.values()))\n",
        "\n",
        "# how many words are there in the vocabulary? store the total length in vocab_len and add 1 because word_index starts with 1 not 0\n",
        "vocab_len = len(tokenizer.word_index) + 1\n",
        "\n",
        "# store the length of the maximum sentence\n",
        "max_len = max(len(train_validate_image_caption[image].split()) for image in train_validate_image_caption)\n",
        "\n",
        "def prepare_data(image_keys):\n",
        "\n",
        "    # x1 will store the image feature, x2 will store one sequence and y will store the next sequence\n",
        "    x1, x2, y = [], [], []\n",
        "\n",
        "    # iterate through all the images\n",
        "    for image in image_keys:\n",
        "\n",
        "        # store the caption of that image\n",
        "        caption = train_validate_image_caption[image]\n",
        "\n",
        "        # split the image into tokens\n",
        "        caption = caption.split()\n",
        "\n",
        "        # generate integer sequences of the\n",
        "        seq = tokenizer.texts_to_sequences([caption])[0]\n",
        "\n",
        "        length = len(seq)\n",
        "\n",
        "        for i in range(1, length):\n",
        "\n",
        "            x2_seq, y_seq = seq[:i] , seq[i]\n",
        "\n",
        "            # pad the sequences\n",
        "            x2_seq = pad_sequences([x2_seq], maxlen = max_len)[0]\n",
        "\n",
        "\n",
        "            # encode the output sequence\n",
        "            y_seq = to_categorical([y_seq], num_classes = vocab_len)[0]\n",
        "\n",
        "            x1.append( train_validate_features[image][0] )\n",
        "\n",
        "            x2.append(x2_seq)\n",
        "\n",
        "            y.append(y_seq)\n",
        "\n",
        "    return np.array(x1), np.array(x2), np.array(y)"
      ],
      "metadata": {
        "id": "jV4EZXwKbl5-"
      },
      "execution_count": 23,
      "outputs": []
    },
    {
      "cell_type": "code",
      "source": [
        "train_x1, train_x2, train_y = prepare_data( train_validate_images[0:7081] )\n",
        "validate_x1, validate_x2, validate_y = prepare_data( train_validate_images[7081:8081] )"
      ],
      "metadata": {
        "id": "VlRaWf_HbpV-"
      },
      "execution_count": 24,
      "outputs": []
    },
    {
      "cell_type": "code",
      "source": [
        "# feature extractor model\n",
        "input_1 = Input(shape=(4096,))\n",
        "droplayer = Dropout(0.5)(input_1)\n",
        "denselayer = Dense(256, activation='relu')(droplayer)\n",
        "\n",
        "# sequence model\n",
        "input_2 = Input(shape=(max_len,))\n",
        "embedding = Embedding(vocab_len, 256, mask_zero=True)(input_2)\n",
        "droplayer_ = Dropout(0.5)(embedding)\n",
        "lstm = LSTM(256)(droplayer_)\n",
        "\n",
        "# decoder model\n",
        "decoder1 = add([denselayer, lstm])\n",
        "decoder2 = Dense(256, activation='relu')(decoder1)\n",
        "outputs = Dense(vocab_len, activation='softmax')(decoder2)\n",
        "\n",
        "# tie it together [image, seq] [word]\n",
        "model = Model(inputs=[input_1, input_2], outputs=outputs)\n",
        "model.compile(loss='categorical_crossentropy', optimizer='adam')\n",
        "\n",
        "# summarize model\n",
        "print(model.summary())"
      ],
      "metadata": {
        "colab": {
          "base_uri": "https://localhost:8080/"
        },
        "id": "CibWGeSgcGIc",
        "outputId": "853fe08a-f6ee-412e-b443-adf2fa5db286"
      },
      "execution_count": 25,
      "outputs": [
        {
          "output_type": "stream",
          "name": "stdout",
          "text": [
            "Model: \"model\"\n",
            "__________________________________________________________________________________________________\n",
            " Layer (type)                Output Shape                 Param #   Connected to                  \n",
            "==================================================================================================\n",
            " input_2 (InputLayer)        [(None, 30)]                 0         []                            \n",
            "                                                                                                  \n",
            " input_1 (InputLayer)        [(None, 4096)]               0         []                            \n",
            "                                                                                                  \n",
            " embedding (Embedding)       (None, 30, 256)              1147648   ['input_2[0][0]']             \n",
            "                                                                                                  \n",
            " dropout (Dropout)           (None, 4096)                 0         ['input_1[0][0]']             \n",
            "                                                                                                  \n",
            " dropout_1 (Dropout)         (None, 30, 256)              0         ['embedding[0][0]']           \n",
            "                                                                                                  \n",
            " dense (Dense)               (None, 256)                  1048832   ['dropout[0][0]']             \n",
            "                                                                                                  \n",
            " lstm (LSTM)                 (None, 256)                  525312    ['dropout_1[0][0]']           \n",
            "                                                                                                  \n",
            " add (Add)                   (None, 256)                  0         ['dense[0][0]',               \n",
            "                                                                     'lstm[0][0]']                \n",
            "                                                                                                  \n",
            " dense_1 (Dense)             (None, 256)                  65792     ['add[0][0]']                 \n",
            "                                                                                                  \n",
            " dense_2 (Dense)             (None, 4483)                 1152131   ['dense_1[0][0]']             \n",
            "                                                                                                  \n",
            "==================================================================================================\n",
            "Total params: 3939715 (15.03 MB)\n",
            "Trainable params: 3939715 (15.03 MB)\n",
            "Non-trainable params: 0 (0.00 Byte)\n",
            "__________________________________________________________________________________________________\n",
            "None\n"
          ]
        }
      ]
    },
    {
      "cell_type": "code",
      "source": [
        "# define checkpoint callback\n",
        "filepath = './model-ep{epoch:02d}-loss{loss:.3f}-val_loss{val_loss:.3f}.h5'\n",
        "\n",
        "callbacks = [\n",
        "             ModelCheckpoint(filepath= filepath, save_best_only=True, monitor='val_loss') ]"
      ],
      "metadata": {
        "id": "l1L1-XpYcNVW"
      },
      "execution_count": 26,
      "outputs": []
    },
    {
      "cell_type": "code",
      "source": [
        "print(\"shape of train_x1 \", train_x1.shape)\n",
        "print(\"shape of train_x2 \", train_x2.shape)\n",
        "print(\"shape of train_y \", train_y.shape)\n",
        "print()\n",
        "print(\"shape of validate_x1 \", validate_x1.shape)\n",
        "print(\"shape of validate_x2 \", validate_x2.shape)\n",
        "print(\"shape of validate_y \", validate_y.shape)"
      ],
      "metadata": {
        "colab": {
          "base_uri": "https://localhost:8080/"
        },
        "id": "GmVz92RxcUb_",
        "outputId": "bf77571d-fccf-4209-97e1-885961e4058d"
      },
      "execution_count": 29,
      "outputs": [
        {
          "output_type": "stream",
          "name": "stdout",
          "text": [
            "shape of train_x1  (72279, 4096)\n",
            "shape of train_x2  (72279, 30)\n",
            "shape of train_y  (72279, 4483)\n",
            "\n",
            "shape of validate_x1  (10258, 4096)\n",
            "shape of validate_x2  (10258, 30)\n",
            "shape of validate_y  (10258, 4483)\n"
          ]
        }
      ]
    },
    {
      "cell_type": "code",
      "source": [
        "# fit model\n",
        "history = model.fit([train_x1, train_x2],\n",
        "                    train_y,\n",
        "                    verbose = 1,\n",
        "                    epochs = 20,\n",
        "                    callbacks = callbacks,\n",
        "                    validation_data=([validate_x1, validate_x2], validate_y))"
      ],
      "metadata": {
        "colab": {
          "base_uri": "https://localhost:8080/"
        },
        "id": "1Afcr39LcYOP",
        "outputId": "2f816869-ae74-4278-c2d3-8fa6532e0428"
      },
      "execution_count": 27,
      "outputs": [
        {
          "output_type": "stream",
          "name": "stdout",
          "text": [
            "Epoch 1/20\n",
            "2259/2259 [==============================] - 279s 117ms/step - loss: 5.0524 - val_loss: 4.5224\n",
            "Epoch 2/20\n"
          ]
        },
        {
          "output_type": "stream",
          "name": "stderr",
          "text": [
            "/usr/local/lib/python3.10/dist-packages/keras/src/engine/training.py:3079: UserWarning: You are saving your model as an HDF5 file via `model.save()`. This file format is considered legacy. We recommend using instead the native Keras format, e.g. `model.save('my_model.keras')`.\n",
            "  saving_api.save_model(\n"
          ]
        },
        {
          "output_type": "stream",
          "name": "stdout",
          "text": [
            "2259/2259 [==============================] - 249s 110ms/step - loss: 4.1949 - val_loss: 4.3382\n",
            "Epoch 3/20\n",
            "2259/2259 [==============================] - 244s 108ms/step - loss: 3.8604 - val_loss: 4.3079\n",
            "Epoch 4/20\n",
            "2259/2259 [==============================] - 246s 109ms/step - loss: 3.6366 - val_loss: 4.3395\n",
            "Epoch 5/20\n",
            "2259/2259 [==============================] - 240s 106ms/step - loss: 3.4631 - val_loss: 4.4250\n",
            "Epoch 6/20\n",
            "2259/2259 [==============================] - 242s 107ms/step - loss: 3.3213 - val_loss: 4.5103\n",
            "Epoch 7/20\n",
            "2259/2259 [==============================] - 247s 109ms/step - loss: 3.2009 - val_loss: 4.6049\n",
            "Epoch 8/20\n",
            "2259/2259 [==============================] - 249s 110ms/step - loss: 3.0936 - val_loss: 4.7788\n",
            "Epoch 9/20\n",
            "2259/2259 [==============================] - 236s 104ms/step - loss: 3.0060 - val_loss: 4.8280\n",
            "Epoch 10/20\n",
            "2259/2259 [==============================] - 236s 105ms/step - loss: 2.9198 - val_loss: 4.9520\n",
            "Epoch 11/20\n",
            "2259/2259 [==============================] - 235s 104ms/step - loss: 2.8472 - val_loss: 5.1557\n",
            "Epoch 12/20\n",
            "2259/2259 [==============================] - 241s 107ms/step - loss: 2.7767 - val_loss: 5.2558\n",
            "Epoch 13/20\n",
            "2259/2259 [==============================] - 247s 110ms/step - loss: 2.7130 - val_loss: 5.3792\n",
            "Epoch 14/20\n",
            "2259/2259 [==============================] - 250s 111ms/step - loss: 2.6589 - val_loss: 5.4711\n",
            "Epoch 15/20\n",
            "2259/2259 [==============================] - 250s 111ms/step - loss: 2.6083 - val_loss: 5.6203\n",
            "Epoch 16/20\n",
            "2259/2259 [==============================] - 248s 110ms/step - loss: 2.5519 - val_loss: 5.7799\n",
            "Epoch 17/20\n",
            "2259/2259 [==============================] - 247s 109ms/step - loss: 2.5093 - val_loss: 5.8630\n",
            "Epoch 18/20\n",
            "2259/2259 [==============================] - 250s 110ms/step - loss: 2.4656 - val_loss: 5.9394\n",
            "Epoch 19/20\n",
            "2259/2259 [==============================] - 249s 110ms/step - loss: 2.4280 - val_loss: 6.0563\n",
            "Epoch 20/20\n",
            "2259/2259 [==============================] - 249s 110ms/step - loss: 2.3946 - val_loss: 6.2929\n"
          ]
        }
      ]
    },
    {
      "cell_type": "code",
      "source": [
        "# plot training loss and validation loss\n",
        "import matplotlib.pyplot as plt\n",
        "\n",
        "plt.plot(history.history['loss'])\n",
        "plt.plot(history.history['val_loss'])\n",
        "plt.title('model loss')\n",
        "plt.ylabel('loss')\n",
        "plt.xlabel('epochs')\n",
        "plt.legend(['training', 'validation'], loc='upper right')\n",
        "plt.show()"
      ],
      "metadata": {
        "colab": {
          "base_uri": "https://localhost:8080/",
          "height": 472
        },
        "id": "WT0Wa5tfcbMV",
        "outputId": "1b21a9a9-4a7c-4e2d-c3bb-4e11f95420dd"
      },
      "execution_count": 32,
      "outputs": [
        {
          "output_type": "display_data",
          "data": {
            "text/plain": [
              "<Figure size 640x480 with 1 Axes>"
            ],
            "image/png": "[encoded data removed]"
          },
          "metadata": {}
        }
      ]
    },
    {
      "cell_type": "code",
      "source": [
        "# saving the model with last parameter\n",
        "model.save('./latest_model.h5')"
      ],
      "metadata": {
        "id": "BrGQaSY5cp1O"
      },
      "execution_count": 28,
      "outputs": []
    },
    {
      "cell_type": "code",
      "source": [
        "def extract_feat(filename):\n",
        "    # load the model\n",
        "    model = VGG16()\n",
        "    # re-structure the model\n",
        "    model = Model(inputs=model.inputs, outputs=model.layers[-2].output)\n",
        "    # load the photo\n",
        "    image = load_img(filename, target_size=(224, 224))\n",
        "    # convert the image pixels to a numpy array\n",
        "    image = img_to_array(image)\n",
        "    # reshape data for the model\n",
        "    image = image.reshape((1, image.shape[0], image.shape[1], image.shape[2]))\n",
        "    # prepare the image for the VGG model\n",
        "    image = preprocess_input(image)\n",
        "    # get features\n",
        "    feature = model.predict(image, verbose=0)\n",
        "    return feature\n",
        "\n",
        "# map an integer to a word\n",
        "def word_for_id(integer, tokenizr):\n",
        "    for word, index in tokenizr.word_index.items():\n",
        "        if index == integer:\n",
        "            return word\n",
        "    return None"
      ],
      "metadata": {
        "id": "TwWfb0TGAdTF"
      },
      "execution_count": 30,
      "outputs": []
    },
    {
      "cell_type": "code",
      "source": [
        "def generate_desc(model, tokenizer, photo, max_length):\n",
        "    # seed the generation process\n",
        "    in_text = 'startseq'\n",
        "    # iterate over the whole length of the sequence\n",
        "    for i in range(max_length):\n",
        "        # integer encode input sequence\n",
        "        sequence = tokenizer.texts_to_sequences([in_text])[0]\n",
        "        # pad input\n",
        "        sequence = pad_sequences([sequence], maxlen=max_length)\n",
        "        # predict next word\n",
        "        yhat = model.predict([photo,sequence], verbose=0)\n",
        "        # convert probability to integer\n",
        "        yhat = np.argmax(yhat)\n",
        "        # map integer to word\n",
        "        word = word_for_id(yhat, tokenizer)\n",
        "        # stop if we cannot map the word\n",
        "        if word is None:\n",
        "            break\n",
        "        # append as input for generating the next word\n",
        "        in_text += ' ' + word\n",
        "        # stop if we predict the end of the sequence\n",
        "        if word == 'endseq':\n",
        "            break\n",
        "    return in_text"
      ],
      "metadata": {
        "id": "N4goKm8tAlci"
      },
      "execution_count": 31,
      "outputs": []
    },
    {
      "cell_type": "code",
      "source": [
        "from keras.models import load_model\n",
        "# load the model\n",
        "modl = load_model('./latest_model.h5')\n",
        "\n",
        "# generate description\n",
        "tokenizr = Tokenizer()\n",
        "tokenizr.fit_on_texts([caption for image, caption in new_captions_dict.items() if image in train_validate_images])\n",
        "max_length = 30\n",
        "\n",
        "for count in range(10):\n",
        "\n",
        "    photo = extract_feat('{}.jpg'.format(image_dataset_path+'/'+train_validate_images[count]))\n",
        "\n",
        "    # generate description\n",
        "    description = generate_desc(modl, tokenizr, photo, max_length)\n",
        "    print(\"Predicted caption -> \", description)\n",
        "    print()\n",
        "    print(\"Actual caption -> \", new_captions_dict[train_validate_images[count]])\n",
        "    print('*********************************************************************')\n",
        "    print()"
      ],
      "metadata": {
        "colab": {
          "base_uri": "https://localhost:8080/"
        },
        "id": "VRvG_G1-Ap5D",
        "outputId": "90db675c-d355-4636-e2f0-d4a4711f621c"
      },
      "execution_count": 35,
      "outputs": [
        {
          "output_type": "stream",
          "name": "stdout",
          "text": [
            "Predicted caption ->  startseq man in red shirt and jeans is standing in the sand endseq\n",
            "\n",
            "Actual caption ->  startseq baby is lifted into the air by man wearing no shirt endseq\n",
            "*********************************************************************\n",
            "\n",
            "Predicted caption ->  startseq brown and white dog is running in the snow endseq\n",
            "\n",
            "Actual caption ->  startseq black and white dog is running through the sand on beach endseq\n",
            "*********************************************************************\n",
            "\n",
            "Predicted caption ->  startseq man in red shirt and sunglasses walks down city street endseq\n",
            "\n",
            "Actual caption ->  startseq large man at party with drink in his right hand endseq\n",
            "*********************************************************************\n",
            "\n",
            "Predicted caption ->  startseq boy in red shirt is standing in the sand endseq\n",
            "\n",
            "Actual caption ->  startseq boy in blue shirt is walking along tan and blue wall endseq\n",
            "*********************************************************************\n",
            "\n",
            "Predicted caption ->  startseq brown dog is running through the snow endseq\n",
            "\n",
            "Actual caption ->  startseq brown dog is chewing on bone with stuffed animal underneath it endseq\n",
            "*********************************************************************\n",
            "\n",
            "Predicted caption ->  startseq boy in red shirt is playing guitar endseq\n",
            "\n",
            "Actual caption ->  startseq little girl rides toy bike and laughs endseq\n",
            "*********************************************************************\n",
            "\n",
            "Predicted caption ->  startseq man in red wetsuit is climbing rock face endseq\n",
            "\n",
            "Actual caption ->  startseq red covered boat racing across the water endseq\n",
            "*********************************************************************\n",
            "\n",
            "Predicted caption ->  startseq boy in blue life life life cap and red cap swimming trunks in pool endseq\n",
            "\n",
            "Actual caption ->  startseq woman and three children are jumping into swimming pool endseq\n",
            "*********************************************************************\n",
            "\n",
            "Predicted caption ->  startseq brown dog is running through the snow endseq\n",
            "\n",
            "Actual caption ->  startseq golden retriever on leash moves through snow endseq\n",
            "*********************************************************************\n",
            "\n",
            "Predicted caption ->  startseq boy in blue shirt is riding bike on the ledge endseq\n",
            "\n",
            "Actual caption ->  startseq boy and his bike leaps into the air endseq\n",
            "*********************************************************************\n",
            "\n"
          ]
        }
      ]
    },
    {
      "cell_type": "code",
      "source": [
        "!pip install astropy>=3.1\n",
        "!pip install sunpy\n",
        "!pip install streamlit==1.24.0 --quiet"
      ],
      "metadata": {
        "colab": {
          "base_uri": "https://localhost:8080/"
        },
        "id": "xr3QwIzjBo6G",
        "outputId": "fd765b9a-50ef-4ada-f47b-1095339a2dcc"
      },
      "execution_count": 36,
      "outputs": [
        {
          "output_type": "stream",
          "name": "stdout",
          "text": [
            "Collecting sunpy\n",
            "  Downloading sunpy-5.0.1-cp39-abi3-manylinux_2_17_x86_64.manylinux2014_x86_64.whl (3.3 MB)\n",
            "\u001b[?25l     \u001b[90m━━━━━━━━━━━━━━━━━━━━━━━━━━━━━━━━━━━━━━━━\u001b[0m \u001b[32m0.0/3.3 MB\u001b[0m \u001b[31m?\u001b[0m eta \u001b[36m-:--:--\u001b[0m\r\u001b[2K     \u001b[91m━\u001b[0m\u001b[91m╸\u001b[0m\u001b[90m━━━━━━━━━━━━━━━━━━━━━━━━━━━━━━━━━━━━━━\u001b[0m \u001b[32m0.2/3.3 MB\u001b[0m \u001b[31m5.0 MB/s\u001b[0m eta \u001b[36m0:00:01\u001b[0m\r\u001b[2K     \u001b[91m━━━━━━━━━━━━━━━━━━━━━━\u001b[0m\u001b[90m╺\u001b[0m\u001b[90m━━━━━━━━━━━━━━━━━\u001b[0m \u001b[32m1.8/3.3 MB\u001b[0m \u001b[31m27.3 MB/s\u001b[0m eta \u001b[36m0:00:01\u001b[0m\r\u001b[2K     \u001b[90m━━━━━━━━━━━━━━━━━━━━━━━━━━━━━━━━━━━━━━━━\u001b[0m \u001b[32m3.3/3.3 MB\u001b[0m \u001b[31m34.6 MB/s\u001b[0m eta \u001b[36m0:00:00\u001b[0m\n",
            "\u001b[?25hRequirement already satisfied: astropy!=5.1.0,>=5.0.6 in /usr/local/lib/python3.10/dist-packages (from sunpy) (5.3.4)\n",
            "Requirement already satisfied: numpy>=1.21.0 in /usr/local/lib/python3.10/dist-packages (from sunpy) (1.23.5)\n",
            "Requirement already satisfied: packaging>=19.0 in /usr/local/lib/python3.10/dist-packages (from sunpy) (23.2)\n",
            "Collecting parfive[ftp]>=2.0.0 (from sunpy)\n",
            "  Downloading parfive-2.0.2-py3-none-any.whl (26 kB)\n",
            "Requirement already satisfied: pyerfa>=2.0 in /usr/local/lib/python3.10/dist-packages (from astropy!=5.1.0,>=5.0.6->sunpy) (2.0.1.1)\n",
            "Requirement already satisfied: PyYAML>=3.13 in /usr/local/lib/python3.10/dist-packages (from astropy!=5.1.0,>=5.0.6->sunpy) (6.0.1)\n",
            "Requirement already satisfied: tqdm>=4.27.0 in /usr/local/lib/python3.10/dist-packages (from parfive[ftp]>=2.0.0->sunpy) (4.66.1)\n",
            "Requirement already satisfied: aiohttp in /usr/local/lib/python3.10/dist-packages (from parfive[ftp]>=2.0.0->sunpy) (3.8.6)\n",
            "Collecting aioftp>=0.17.1 (from parfive[ftp]>=2.0.0->sunpy)\n",
            "  Downloading aioftp-0.21.4-py3-none-any.whl (37 kB)\n",
            "Requirement already satisfied: attrs>=17.3.0 in /usr/local/lib/python3.10/dist-packages (from aiohttp->parfive[ftp]>=2.0.0->sunpy) (23.1.0)\n",
            "Requirement already satisfied: charset-normalizer<4.0,>=2.0 in /usr/local/lib/python3.10/dist-packages (from aiohttp->parfive[ftp]>=2.0.0->sunpy) (3.3.2)\n",
            "Requirement already satisfied: multidict<7.0,>=4.5 in /usr/local/lib/python3.10/dist-packages (from aiohttp->parfive[ftp]>=2.0.0->sunpy) (6.0.4)\n",
            "Requirement already satisfied: async-timeout<5.0,>=4.0.0a3 in /usr/local/lib/python3.10/dist-packages (from aiohttp->parfive[ftp]>=2.0.0->sunpy) (4.0.3)\n",
            "Requirement already satisfied: yarl<2.0,>=1.0 in /usr/local/lib/python3.10/dist-packages (from aiohttp->parfive[ftp]>=2.0.0->sunpy) (1.9.2)\n",
            "Requirement already satisfied: frozenlist>=1.1.1 in /usr/local/lib/python3.10/dist-packages (from aiohttp->parfive[ftp]>=2.0.0->sunpy) (1.4.0)\n",
            "Requirement already satisfied: aiosignal>=1.1.2 in /usr/local/lib/python3.10/dist-packages (from aiohttp->parfive[ftp]>=2.0.0->sunpy) (1.3.1)\n",
            "Requirement already satisfied: idna>=2.0 in /usr/local/lib/python3.10/dist-packages (from yarl<2.0,>=1.0->aiohttp->parfive[ftp]>=2.0.0->sunpy) (3.4)\n",
            "Installing collected packages: aioftp, parfive, sunpy\n",
            "Successfully installed aioftp-0.21.4 parfive-2.0.2 sunpy-5.0.1\n",
            "\u001b[2K     \u001b[90m━━━━━━━━━━━━━━━━━━━━━━━━━━━━━━━━━━━━━━━━\u001b[0m \u001b[32m8.9/8.9 MB\u001b[0m \u001b[31m56.0 MB/s\u001b[0m eta \u001b[36m0:00:00\u001b[0m\n",
            "\u001b[2K     \u001b[90m━━━━━━━━━━━━━━━━━━━━━━━━━━━━━━━━━━━━━━━━\u001b[0m \u001b[32m164.8/164.8 kB\u001b[0m \u001b[31m22.1 MB/s\u001b[0m eta \u001b[36m0:00:00\u001b[0m\n",
            "\u001b[2K     \u001b[90m━━━━━━━━━━━━━━━━━━━━━━━━━━━━━━━━━━━━━━━━\u001b[0m \u001b[32m190.6/190.6 kB\u001b[0m \u001b[31m22.2 MB/s\u001b[0m eta \u001b[36m0:00:00\u001b[0m\n",
            "\u001b[2K     \u001b[90m━━━━━━━━━━━━━━━━━━━━━━━━━━━━━━━━━━━━━━━━\u001b[0m \u001b[32m4.8/4.8 MB\u001b[0m \u001b[31m99.8 MB/s\u001b[0m eta \u001b[36m0:00:00\u001b[0m\n",
            "\u001b[2K     \u001b[90m━━━━━━━━━━━━━━━━━━━━━━━━━━━━━━━━━━━━━━━━\u001b[0m \u001b[32m82.1/82.1 kB\u001b[0m \u001b[31m10.3 MB/s\u001b[0m eta \u001b[36m0:00:00\u001b[0m\n",
            "\u001b[2K     \u001b[90m━━━━━━━━━━━━━━━━━━━━━━━━━━━━━━━━━━━━━━━━\u001b[0m \u001b[32m62.7/62.7 kB\u001b[0m \u001b[31m7.7 MB/s\u001b[0m eta \u001b[36m0:00:00\u001b[0m\n",
            "\u001b[2K     \u001b[90m━━━━━━━━━━━━━━━━━━━━━━━━━━━━━━━━━━━━━━━━\u001b[0m \u001b[32m341.8/341.8 kB\u001b[0m \u001b[31m37.5 MB/s\u001b[0m eta \u001b[36m0:00:00\u001b[0m\n",
            "\u001b[?25h"
          ]
        }
      ]
    },
    {
      "cell_type": "code",
      "source": [
        "%%writefile app3.py\n",
        "import streamlit as st\n",
        "from PIL import Image\n",
        "from keras.applications.vgg16 import VGG16\n",
        "from keras.preprocessing.image import load_img\n",
        "from keras.preprocessing.image import img_to_array\n",
        "from keras.applications.vgg16 import preprocess_input\n",
        "import numpy as np\n",
        "from keras.models import Model, load_model\n",
        "from keras.preprocessing.text import Tokenizer\n",
        "from keras.preprocessing.sequence import pad_sequences\n",
        "from keras.utils import to_categorical, plot_model\n",
        "import os\n",
        "\n",
        "st.title(\"IMAGE CAPTIONING\")\n",
        "st.text(\"The following AI will help you write captions to images\")\n",
        "image_dataset_path = '/content/drive/MyDrive/codetice/input/Flicker8k_Dataset'\n",
        "caption_dataset_path = '/content/drive/MyDrive/codetice/input/Flickr8k_text/Flickr8k.token.txt'\n",
        "\n",
        "# load the caption file & read it\n",
        "def load_caption_file(path):\n",
        "\n",
        "    # dictionary to store captions\n",
        "    captions_dict = {}\n",
        "\n",
        "    # iterate through the file\n",
        "    for caption in open(path):\n",
        "\n",
        "        # caption has format-> 1000268201_693b08cb0e.jpg#0  A child in a pink dress is climbing up a set of stairs in an entry way .\n",
        "        tokens = caption.split()\n",
        "        caption_id, caption_text = tokens[0].split('.')[0], tokens[1:]\n",
        "        caption_text = ' '.join(caption_text)\n",
        "\n",
        "        # save it in the captions dictionary\n",
        "        if caption_id not in captions_dict:\n",
        "            captions_dict[caption_id] = caption_text\n",
        "\n",
        "    return captions_dict\n",
        "\n",
        "# call the function\n",
        "captions_dict = load_caption_file(caption_dataset_path)\n",
        "\n",
        "# clean the captions\n",
        "import string\n",
        "\n",
        "# dictionary to store the cleaned captions\n",
        "new_captions_dict = {}\n",
        "\n",
        "# prepare translation table for removing punctuation. third argument is the list of punctuations we want to remove\n",
        "table = str.maketrans('', '', string.punctuation)\n",
        "\n",
        "# loop through the dictionary\n",
        "for caption_id, caption_text in captions_dict.items():\n",
        "    # tokenize the caption_text\n",
        "    caption_text = caption_text.split()\n",
        "    # convert it into lower case\n",
        "    caption_text = [token.lower() for token in caption_text]\n",
        "    # remove punctuation from each token\n",
        "    caption_text = [token.translate(table) for token in caption_text]\n",
        "    # remove all the single letter tokens like 'a', 's'\n",
        "    caption_text = [token for token in caption_text if len(token)>1]\n",
        "    # store the cleaned captions\n",
        "    new_captions_dict[caption_id] = 'startseq ' + ' '.join(caption_text) + ' endseq'\n",
        "\n",
        "del captions_dict\n",
        "\n",
        "caption_images_list = []\n",
        "\n",
        "image_index = list(new_captions_dict.keys())\n",
        "\n",
        "caption_images_list = [ image.split('.')[0] for image in os.listdir(image_dataset_path) if image.split('.')[0] in image_index ]\n",
        "\n",
        "train_validate_images = caption_images_list[0:8081]\n",
        "\n",
        "def extract_feat(filename):\n",
        "    # load the model\n",
        "    model = VGG16()\n",
        "    # re-structure the model\n",
        "    model = Model(inputs=model.inputs, outputs=model.layers[-2].output)\n",
        "    # load the photo\n",
        "    image = load_img(filename, target_size=(224, 224))\n",
        "    # convert the image pixels to a numpy array\n",
        "    image = img_to_array(image)\n",
        "    # reshape data for the model\n",
        "    image = image.reshape((1, image.shape[0], image.shape[1], image.shape[2]))\n",
        "    # prepare the image for the VGG model\n",
        "    image = preprocess_input(image)\n",
        "    # get features\n",
        "    feature = model.predict(image, verbose=0)\n",
        "    return feature\n",
        "\n",
        "# map an integer to a word\n",
        "def word_for_id(integer, tokenizr):\n",
        "    for word, index in tokenizr.word_index.items():\n",
        "        if index == integer:\n",
        "            return word\n",
        "    return None\n",
        "\n",
        "def generate_desc(model, tokenizer, photo, max_length):\n",
        "    # seed the generation process\n",
        "    in_text = 'startseq'\n",
        "    # iterate over the whole length of the sequence\n",
        "    for i in range(max_length):\n",
        "        # integer encode input sequence\n",
        "        sequence = tokenizer.texts_to_sequences([in_text])[0]\n",
        "        # pad input\n",
        "        sequence = pad_sequences([sequence], maxlen=max_length)\n",
        "        # predict next word\n",
        "        yhat = model.predict([photo,sequence], verbose=0)\n",
        "        # convert probability to integer\n",
        "        yhat = np.argmax(yhat)\n",
        "        # map integer to word\n",
        "        word = word_for_id(yhat, tokenizer)\n",
        "        # stop if we cannot map the word\n",
        "        if word is None:\n",
        "            break\n",
        "        # append as input for generating the next word\n",
        "        in_text += ' ' + word\n",
        "        # stop if we predict the end of the sequence\n",
        "        if word == 'endseq':\n",
        "            break\n",
        "    return in_text\n",
        "\n",
        "\n",
        "\n",
        "def load_image(image_file):\n",
        "\timg = Image.open(image_file)\n",
        "\treturn img\n",
        "\n",
        "uploaded_files = st.file_uploader(\"Choose a jpg file\",type='jpg', accept_multiple_files=True)\n",
        "for uploaded_file in uploaded_files:\n",
        "    bytes_data = uploaded_file.read()\n",
        "    img = load_image( uploaded_file)\n",
        "    with open(uploaded_file.name,'wb') as f:\n",
        "       f.write(uploaded_file.getbuffer())\n",
        "    # load the model\n",
        "    modl = load_model('./latest_model.h5')\n",
        "    # generate description\n",
        "    tokenizr = Tokenizer()\n",
        "    tokenizr.fit_on_texts([caption for image, caption in new_captions_dict.items() if image in train_validate_images])\n",
        "    max_length = 30\n",
        "    photo = extract_feat('/content/{}'.format(uploaded_file.name))\n",
        "    # generate description\n",
        "    description = generate_desc(modl, tokenizr, photo, max_length)\n",
        "    description=description.replace('startseq', '')\n",
        "    description=description.replace('endseq', '')\n",
        "    st.image(img,width=250,caption=description)\n"
      ],
      "metadata": {
        "colab": {
          "base_uri": "https://localhost:8080/"
        },
        "id": "XVg0lm7tA0XG",
        "outputId": "6e42b972-2f70-4320-d18e-68cad1b8acde"
      },
      "execution_count": 93,
      "outputs": [
        {
          "output_type": "stream",
          "name": "stdout",
          "text": [
            "Overwriting app3.py\n"
          ]
        }
      ]
    },
    {
      "cell_type": "code",
      "source": [
        "!streamlit run app3.py & npx localtunnel --port 8501 & curl ipv4.icanhazip.com"
      ],
      "metadata": {
        "colab": {
          "base_uri": "https://localhost:8080/"
        },
        "id": "hOUnnwzZCTc4",
        "outputId": "a5f880e4-b9a7-41f6-f5cc-a245306bc750"
      },
      "execution_count": 95,
      "outputs": [
        {
          "output_type": "stream",
          "name": "stdout",
          "text": [
            "34.170.52.125\n",
            "[##................] - fetchMetadata: sill resolveWithNewModule ms@2.1.2 checki\u001b[0m\u001b[K\n",
            "Collecting usage statistics. To deactivate, set browser.gatherUsageStats to False.\n",
            "\u001b[0m\n",
            "\u001b[0m\n",
            "\u001b[34m\u001b[1m  You can now view your Streamlit app in your browser.\u001b[0m\n",
            "\u001b[0m\n",
            "\u001b[34m  Network URL: \u001b[0m\u001b[1mhttp://172.28.0.12:8501\u001b[0m\n",
            "\u001b[34m  External URL: \u001b[0m\u001b[1mhttp://34.170.52.125:8501\u001b[0m\n",
            "\u001b[0m\n",
            "\u001b[K\u001b[?25hnpx: installed 22 in 3.207s\n",
            "your url is: https://soft-bobcats-yell.loca.lt\n",
            "2023-11-17 13:32:08.470739: E tensorflow/compiler/xla/stream_executor/cuda/cuda_dnn.cc:9342] Unable to register cuDNN factory: Attempting to register factory for plugin cuDNN when one has already been registered\n",
            "2023-11-17 13:32:08.471701: E tensorflow/compiler/xla/stream_executor/cuda/cuda_fft.cc:609] Unable to register cuFFT factory: Attempting to register factory for plugin cuFFT when one has already been registered\n",
            "2023-11-17 13:32:08.472051: E tensorflow/compiler/xla/stream_executor/cuda/cuda_blas.cc:1518] Unable to register cuBLAS factory: Attempting to register factory for plugin cuBLAS when one has already been registered\n",
            "2023-11-17 13:32:10.906743: W tensorflow/compiler/tf2tensorrt/utils/py_utils.cc:38] TF-TRT Warning: Could not find TensorRT\n",
            "2023-11-17 13:32:38.778000: W tensorflow/core/common_runtime/gpu/gpu_bfc_allocator.cc:47] Overriding orig_value setting because the TF_FORCE_GPU_ALLOW_GROWTH environment variable is set. Original config value was 0.\n",
            "2023-11-17 13:32:43.732923: W tensorflow/tsl/framework/cpu_allocator_impl.cc:83] Allocation of 411041792 exceeds 10% of free system memory.\n",
            "\u001b[34m  Stopping...\u001b[0m\n"
          ]
        }
      ]
    }
  ],
  "metadata": {
    "colab": {
      "provenance": [],
      "gpuType": "T4"
    },
    "kernelspec": {
      "display_name": "Python 3",
      "name": "python3"
    },
    "language_info": {
      "name": "python"
    },
    "accelerator": "GPU"
  },
  "nbformat": 4,
  "nbformat_minor": 0
}